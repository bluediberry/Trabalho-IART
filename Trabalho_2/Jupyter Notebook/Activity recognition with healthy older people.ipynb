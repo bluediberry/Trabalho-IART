{
 "cells": [
  {
   "cell_type": "code",
   "execution_count": 1,
   "metadata": {},
   "outputs": [
    {
     "name": "stderr",
     "output_type": "stream",
     "text": [
      "Using TensorFlow backend.\n"
     ]
    }
   ],
   "source": [
    "from __future__ import print_function\n",
    "from matplotlib import pyplot as plt\n",
    "%matplotlib inline\n",
    "import numpy as np\n",
    "import tensorflow\n",
    "import glob\n",
    "import os\n",
    "import pandas as pd\n",
    "import seaborn as sns\n",
    "from scipy import stats\n",
    "from IPython.display import display, HTML\n",
    "\n",
    "from sklearn import metrics\n",
    "from sklearn.metrics import classification_report\n",
    "from sklearn import preprocessing\n",
    "\n",
    "import keras\n",
    "from keras.models import Sequential\n",
    "from keras.layers import Dense, Dropout, Flatten, Reshape\n",
    "from keras.layers import Conv2D, MaxPooling2D\n",
    "from keras.utils import np_utils"
   ]
  },
  {
   "cell_type": "code",
   "execution_count": 2,
   "metadata": {},
   "outputs": [
    {
     "name": "stdout",
     "output_type": "stream",
     "text": [
      "keras version  2.2.4\n"
     ]
    }
   ],
   "source": [
    "# Set some standard parameters upfront\n",
    "pd.options.display.float_format = '{:.1f}'.format\n",
    "sns.set() # Default seaborn look and feel\n",
    "plt.style.use('ggplot')\n",
    "print('keras version ', keras.__version__)\n",
    "# Same labels will be reused throughout the program\n",
    "LABELS = ['[1]Sitting-on-Bed',\n",
    "          '[2]Sitting-on-Chair',\n",
    "          '[3]Lying-Down',\n",
    "          '[4]Ambulating']\n",
    "# The number of steps within one time segment\n",
    "TIME_PERIODS = 100\n",
    "# The steps to take from one segment to the next; if this value is equal to\n",
    "# TIME_PERIODS, then there is no overlap between the segments\n",
    "STEP_DISTANCE = 10"
   ]
  },
  {
   "cell_type": "code",
   "execution_count": 3,
   "metadata": {},
   "outputs": [],
   "source": [
    "def read_data(file_path):\n",
    "    \n",
    "    pd.options.display.float_format = '{:,.4f}'.format\n",
    "\n",
    "    column_names = ['experiment-id',\n",
    "                    'time',\n",
    "                    'frontal-acceleration',\n",
    "                    'vertical-acceleration',\n",
    "                    'lateral-acceleration',\n",
    "                    'antenna-id',\n",
    "                    'RSSI',\n",
    "                    'phase',\n",
    "                    'frequency',\n",
    "                    'label']\n",
    "    \n",
    "    df = pd.read_csv(file_path,\n",
    "                     header=None,\n",
    "                     names=column_names)\n",
    "\n",
    "    # This is very important otherwise the model will not fit and loss\n",
    "    # will show up as NAN\n",
    "    df.dropna(axis=0, how='any', inplace=True)\n",
    "\n",
    "    return df\n",
    "\n",
    "def convert_to_float(x):\n",
    "\n",
    "    try:\n",
    "        return np.float(x)\n",
    "    except:\n",
    "        return np.nan\n",
    " \n",
    "def show_basic_dataframe_info(dataframe):\n",
    "\n",
    "    # Shape and how many rows and columns\n",
    "    print('Number of columns in the dataframe: %i' % (dataframe.shape[1]))\n",
    "    print('Number of rows in the dataframe: %i\\n' % (dataframe.shape[0]))"
   ]
  },
  {
   "cell_type": "code",
   "execution_count": 4,
   "metadata": {},
   "outputs": [],
   "source": [
    "# Load data set containing all the data\n",
    "\n",
    "df = read_data('/Users/Mariana/Desktop/test_file.txt')\n",
    "\n",
    "#Reading multiple files not working **--**\n",
    "#file_path = '/Users/Mariana/Desktop/S1_Dataset/'\n",
    "#read_files = glob.glob(os.path.join(file_path, '*.txt'))\n",
    "#np_array_values = []\n",
    "\n",
    "#for files in read_files:\n",
    "\n",
    "#    df = pd.read_csv(files, header=None, names=column_names)\n",
    "    \n",
    "#    df.dropna(axis=0, how='any', inplace=True)\n",
    "\n",
    "#    np_array_values.append(df)\n"
   ]
  },
  {
   "cell_type": "code",
   "execution_count": 5,
   "metadata": {},
   "outputs": [
    {
     "name": "stdout",
     "output_type": "stream",
     "text": [
      "Number of columns in the dataframe: 10\n",
      "Number of rows in the dataframe: 52482\n",
      "\n"
     ]
    },
    {
     "data": {
      "text/html": [
       "<div>\n",
       "<style scoped>\n",
       "    .dataframe tbody tr th:only-of-type {\n",
       "        vertical-align: middle;\n",
       "    }\n",
       "\n",
       "    .dataframe tbody tr th {\n",
       "        vertical-align: top;\n",
       "    }\n",
       "\n",
       "    .dataframe thead th {\n",
       "        text-align: right;\n",
       "    }\n",
       "</style>\n",
       "<table border=\"1\" class=\"dataframe\">\n",
       "  <thead>\n",
       "    <tr style=\"text-align: right;\">\n",
       "      <th></th>\n",
       "      <th>experiment-id</th>\n",
       "      <th>time</th>\n",
       "      <th>frontal-acceleration</th>\n",
       "      <th>vertical-acceleration</th>\n",
       "      <th>lateral-acceleration</th>\n",
       "      <th>antenna-id</th>\n",
       "      <th>RSSI</th>\n",
       "      <th>phase</th>\n",
       "      <th>frequency</th>\n",
       "      <th>label</th>\n",
       "    </tr>\n",
       "  </thead>\n",
       "  <tbody>\n",
       "    <tr>\n",
       "      <th>0</th>\n",
       "      <td>1</td>\n",
       "      <td>0.0000</td>\n",
       "      <td>0.2720</td>\n",
       "      <td>1.0082</td>\n",
       "      <td>-0.0821</td>\n",
       "      <td>1</td>\n",
       "      <td>-63.5000</td>\n",
       "      <td>2.4252</td>\n",
       "      <td>924.2500</td>\n",
       "      <td>1</td>\n",
       "    </tr>\n",
       "    <tr>\n",
       "      <th>1</th>\n",
       "      <td>1</td>\n",
       "      <td>0.5000</td>\n",
       "      <td>0.2720</td>\n",
       "      <td>1.0082</td>\n",
       "      <td>-0.0821</td>\n",
       "      <td>1</td>\n",
       "      <td>-63.0000</td>\n",
       "      <td>4.7369</td>\n",
       "      <td>921.7500</td>\n",
       "      <td>1</td>\n",
       "    </tr>\n",
       "    <tr>\n",
       "      <th>2</th>\n",
       "      <td>1</td>\n",
       "      <td>1.5000</td>\n",
       "      <td>0.4479</td>\n",
       "      <td>0.9164</td>\n",
       "      <td>-0.0137</td>\n",
       "      <td>1</td>\n",
       "      <td>-63.5000</td>\n",
       "      <td>3.0311</td>\n",
       "      <td>923.7500</td>\n",
       "      <td>1</td>\n",
       "    </tr>\n",
       "    <tr>\n",
       "      <th>3</th>\n",
       "      <td>1</td>\n",
       "      <td>1.7500</td>\n",
       "      <td>0.4479</td>\n",
       "      <td>0.9164</td>\n",
       "      <td>-0.0137</td>\n",
       "      <td>1</td>\n",
       "      <td>-63.0000</td>\n",
       "      <td>2.0371</td>\n",
       "      <td>921.2500</td>\n",
       "      <td>1</td>\n",
       "    </tr>\n",
       "    <tr>\n",
       "      <th>4</th>\n",
       "      <td>1</td>\n",
       "      <td>2.5000</td>\n",
       "      <td>0.3424</td>\n",
       "      <td>0.9623</td>\n",
       "      <td>-0.0593</td>\n",
       "      <td>1</td>\n",
       "      <td>-63.5000</td>\n",
       "      <td>5.8920</td>\n",
       "      <td>920.2500</td>\n",
       "      <td>1</td>\n",
       "    </tr>\n",
       "    <tr>\n",
       "      <th>5</th>\n",
       "      <td>1</td>\n",
       "      <td>3.2500</td>\n",
       "      <td>0.3424</td>\n",
       "      <td>0.9623</td>\n",
       "      <td>-0.0593</td>\n",
       "      <td>4</td>\n",
       "      <td>-56.5000</td>\n",
       "      <td>1.2563</td>\n",
       "      <td>924.7500</td>\n",
       "      <td>1</td>\n",
       "    </tr>\n",
       "    <tr>\n",
       "      <th>6</th>\n",
       "      <td>1</td>\n",
       "      <td>4.0000</td>\n",
       "      <td>0.3072</td>\n",
       "      <td>0.9967</td>\n",
       "      <td>-0.0707</td>\n",
       "      <td>1</td>\n",
       "      <td>-63.5000</td>\n",
       "      <td>3.8718</td>\n",
       "      <td>922.7500</td>\n",
       "      <td>1</td>\n",
       "    </tr>\n",
       "    <tr>\n",
       "      <th>7</th>\n",
       "      <td>1</td>\n",
       "      <td>5.0000</td>\n",
       "      <td>0.2720</td>\n",
       "      <td>0.9967</td>\n",
       "      <td>-0.0935</td>\n",
       "      <td>1</td>\n",
       "      <td>-64.0000</td>\n",
       "      <td>2.4943</td>\n",
       "      <td>924.2500</td>\n",
       "      <td>1</td>\n",
       "    </tr>\n",
       "    <tr>\n",
       "      <th>8</th>\n",
       "      <td>1</td>\n",
       "      <td>5.5000</td>\n",
       "      <td>0.2369</td>\n",
       "      <td>1.0312</td>\n",
       "      <td>-0.1277</td>\n",
       "      <td>1</td>\n",
       "      <td>-64.5000</td>\n",
       "      <td>2.0080</td>\n",
       "      <td>924.7500</td>\n",
       "      <td>1</td>\n",
       "    </tr>\n",
       "    <tr>\n",
       "      <th>9</th>\n",
       "      <td>1</td>\n",
       "      <td>6.0000</td>\n",
       "      <td>0.2369</td>\n",
       "      <td>1.0312</td>\n",
       "      <td>-0.1277</td>\n",
       "      <td>1</td>\n",
       "      <td>-66.0000</td>\n",
       "      <td>1.1904</td>\n",
       "      <td>925.7500</td>\n",
       "      <td>1</td>\n",
       "    </tr>\n",
       "    <tr>\n",
       "      <th>10</th>\n",
       "      <td>1</td>\n",
       "      <td>6.5000</td>\n",
       "      <td>0.2369</td>\n",
       "      <td>1.0312</td>\n",
       "      <td>-0.1277</td>\n",
       "      <td>1</td>\n",
       "      <td>-63.0000</td>\n",
       "      <td>0.6121</td>\n",
       "      <td>922.7500</td>\n",
       "      <td>1</td>\n",
       "    </tr>\n",
       "    <tr>\n",
       "      <th>11</th>\n",
       "      <td>1</td>\n",
       "      <td>6.7500</td>\n",
       "      <td>0.2369</td>\n",
       "      <td>1.0312</td>\n",
       "      <td>-0.1277</td>\n",
       "      <td>1</td>\n",
       "      <td>-65.0000</td>\n",
       "      <td>1.6506</td>\n",
       "      <td>925.2500</td>\n",
       "      <td>1</td>\n",
       "    </tr>\n",
       "    <tr>\n",
       "      <th>12</th>\n",
       "      <td>1</td>\n",
       "      <td>7.7500</td>\n",
       "      <td>0.3189</td>\n",
       "      <td>0.9967</td>\n",
       "      <td>-0.0707</td>\n",
       "      <td>1</td>\n",
       "      <td>-62.0000</td>\n",
       "      <td>4.8075</td>\n",
       "      <td>921.7500</td>\n",
       "      <td>1</td>\n",
       "    </tr>\n",
       "    <tr>\n",
       "      <th>13</th>\n",
       "      <td>1</td>\n",
       "      <td>8.0000</td>\n",
       "      <td>0.3189</td>\n",
       "      <td>0.9967</td>\n",
       "      <td>-0.0707</td>\n",
       "      <td>4</td>\n",
       "      <td>-56.5000</td>\n",
       "      <td>4.5252</td>\n",
       "      <td>924.7500</td>\n",
       "      <td>1</td>\n",
       "    </tr>\n",
       "    <tr>\n",
       "      <th>14</th>\n",
       "      <td>1</td>\n",
       "      <td>9.0000</td>\n",
       "      <td>0.4714</td>\n",
       "      <td>0.9278</td>\n",
       "      <td>-0.0023</td>\n",
       "      <td>1</td>\n",
       "      <td>-62.5000</td>\n",
       "      <td>3.8135</td>\n",
       "      <td>922.7500</td>\n",
       "      <td>1</td>\n",
       "    </tr>\n",
       "    <tr>\n",
       "      <th>15</th>\n",
       "      <td>1</td>\n",
       "      <td>9.7500</td>\n",
       "      <td>0.4010</td>\n",
       "      <td>0.9393</td>\n",
       "      <td>-0.0251</td>\n",
       "      <td>1</td>\n",
       "      <td>-64.0000</td>\n",
       "      <td>2.4130</td>\n",
       "      <td>924.2500</td>\n",
       "      <td>1</td>\n",
       "    </tr>\n",
       "    <tr>\n",
       "      <th>16</th>\n",
       "      <td>1</td>\n",
       "      <td>10.0000</td>\n",
       "      <td>0.4010</td>\n",
       "      <td>0.9393</td>\n",
       "      <td>-0.0251</td>\n",
       "      <td>1</td>\n",
       "      <td>-62.5000</td>\n",
       "      <td>1.5309</td>\n",
       "      <td>921.7500</td>\n",
       "      <td>1</td>\n",
       "    </tr>\n",
       "    <tr>\n",
       "      <th>17</th>\n",
       "      <td>1</td>\n",
       "      <td>10.5000</td>\n",
       "      <td>0.4010</td>\n",
       "      <td>0.9393</td>\n",
       "      <td>-0.0251</td>\n",
       "      <td>1</td>\n",
       "      <td>-64.5000</td>\n",
       "      <td>5.2247</td>\n",
       "      <td>924.7500</td>\n",
       "      <td>1</td>\n",
       "    </tr>\n",
       "    <tr>\n",
       "      <th>18</th>\n",
       "      <td>1</td>\n",
       "      <td>10.7500</td>\n",
       "      <td>0.4010</td>\n",
       "      <td>0.9393</td>\n",
       "      <td>-0.0251</td>\n",
       "      <td>4</td>\n",
       "      <td>-58.0000</td>\n",
       "      <td>0.5047</td>\n",
       "      <td>925.7500</td>\n",
       "      <td>1</td>\n",
       "    </tr>\n",
       "    <tr>\n",
       "      <th>19</th>\n",
       "      <td>1</td>\n",
       "      <td>12.0000</td>\n",
       "      <td>0.3072</td>\n",
       "      <td>0.9967</td>\n",
       "      <td>-0.0707</td>\n",
       "      <td>1</td>\n",
       "      <td>-64.0000</td>\n",
       "      <td>2.4620</td>\n",
       "      <td>924.2500</td>\n",
       "      <td>1</td>\n",
       "    </tr>\n",
       "  </tbody>\n",
       "</table>\n",
       "</div>"
      ],
      "text/plain": [
       "    experiment-id    time  frontal-acceleration  vertical-acceleration  \\\n",
       "0               1  0.0000                0.2720                 1.0082   \n",
       "1               1  0.5000                0.2720                 1.0082   \n",
       "2               1  1.5000                0.4479                 0.9164   \n",
       "3               1  1.7500                0.4479                 0.9164   \n",
       "4               1  2.5000                0.3424                 0.9623   \n",
       "5               1  3.2500                0.3424                 0.9623   \n",
       "6               1  4.0000                0.3072                 0.9967   \n",
       "7               1  5.0000                0.2720                 0.9967   \n",
       "8               1  5.5000                0.2369                 1.0312   \n",
       "9               1  6.0000                0.2369                 1.0312   \n",
       "10              1  6.5000                0.2369                 1.0312   \n",
       "11              1  6.7500                0.2369                 1.0312   \n",
       "12              1  7.7500                0.3189                 0.9967   \n",
       "13              1  8.0000                0.3189                 0.9967   \n",
       "14              1  9.0000                0.4714                 0.9278   \n",
       "15              1  9.7500                0.4010                 0.9393   \n",
       "16              1 10.0000                0.4010                 0.9393   \n",
       "17              1 10.5000                0.4010                 0.9393   \n",
       "18              1 10.7500                0.4010                 0.9393   \n",
       "19              1 12.0000                0.3072                 0.9967   \n",
       "\n",
       "    lateral-acceleration  antenna-id     RSSI  phase  frequency  label  \n",
       "0                -0.0821           1 -63.5000 2.4252   924.2500      1  \n",
       "1                -0.0821           1 -63.0000 4.7369   921.7500      1  \n",
       "2                -0.0137           1 -63.5000 3.0311   923.7500      1  \n",
       "3                -0.0137           1 -63.0000 2.0371   921.2500      1  \n",
       "4                -0.0593           1 -63.5000 5.8920   920.2500      1  \n",
       "5                -0.0593           4 -56.5000 1.2563   924.7500      1  \n",
       "6                -0.0707           1 -63.5000 3.8718   922.7500      1  \n",
       "7                -0.0935           1 -64.0000 2.4943   924.2500      1  \n",
       "8                -0.1277           1 -64.5000 2.0080   924.7500      1  \n",
       "9                -0.1277           1 -66.0000 1.1904   925.7500      1  \n",
       "10               -0.1277           1 -63.0000 0.6121   922.7500      1  \n",
       "11               -0.1277           1 -65.0000 1.6506   925.2500      1  \n",
       "12               -0.0707           1 -62.0000 4.8075   921.7500      1  \n",
       "13               -0.0707           4 -56.5000 4.5252   924.7500      1  \n",
       "14               -0.0023           1 -62.5000 3.8135   922.7500      1  \n",
       "15               -0.0251           1 -64.0000 2.4130   924.2500      1  \n",
       "16               -0.0251           1 -62.5000 1.5309   921.7500      1  \n",
       "17               -0.0251           1 -64.5000 5.2247   924.7500      1  \n",
       "18               -0.0251           4 -58.0000 0.5047   925.7500      1  \n",
       "19               -0.0707           1 -64.0000 2.4620   924.2500      1  "
      ]
     },
     "execution_count": 5,
     "metadata": {},
     "output_type": "execute_result"
    }
   ],
   "source": [
    "# Describe the data\n",
    "show_basic_dataframe_info(df)\n",
    "df.head(20)\n"
   ]
  },
  {
   "cell_type": "code",
   "execution_count": 6,
   "metadata": {},
   "outputs": [
    {
     "data": {
      "image/png": "[encoded data removed]",
      "text/plain": [
       "<Figure size 432x288 with 1 Axes>"
      ]
     },
     "metadata": {},
     "output_type": "display_data"
    },
    {
     "name": "stdout",
     "output_type": "stream",
     "text": [
      "[1]Sitting-on-Bed\n",
      "[2]Sitting-on-Chair\n",
      "[3]Lying-Down\n",
      "[4]Ambulating\n"
     ]
    }
   ],
   "source": [
    "df['label'].value_counts().plot(kind='bar',\n",
    "                                   title='Training Examples by Activity Type')\n",
    "\n",
    "plt.show()\n",
    "\n",
    "for i in LABELS:\n",
    "    print(i)"
   ]
  },
  {
   "cell_type": "markdown",
   "metadata": {},
   "source": [
    "# Split Data into Training and Test Set\n"
   ]
  },
  {
   "cell_type": "code",
   "execution_count": 7,
   "metadata": {},
   "outputs": [],
   "source": [
    "# Define column name of the label vector\n",
    "LABEL = 'ActivityEncoded'\n",
    "# Transform the labels from String to Integer via LabelEncoder\n",
    "le = preprocessing.LabelEncoder()\n",
    "# Add a new column to the existing DataFrame with the encoded values\n",
    "df[LABEL] = df['label'].values.ravel()"
   ]
  },
  {
   "cell_type": "code",
   "execution_count": 8,
   "metadata": {},
   "outputs": [],
   "source": [
    "# Differentiate between test set and training set\n",
    "df_test = df[df['experiment-id'] > 50]\n",
    "df_train = df[df['experiment-id'] <= 50]"
   ]
  },
  {
   "cell_type": "markdown",
   "metadata": {},
   "source": [
    "## Normalize Training Data"
   ]
  },
  {
   "cell_type": "code",
   "execution_count": 19,
   "metadata": {},
   "outputs": [],
   "source": [
    "# Normalize features for training data set (values between 0 and 1)\n",
    "# Surpress warning for next 6 operation\n",
    "pd.options.mode.chained_assignment = None  # default='warn'\n",
    "df_train['frontal-acceleration'] = df_train['frontal-acceleration'] / df_train['frontal-acceleration'].max()\n",
    "df_train['vertical-acceleration'] = df_train['vertical-acceleration'] / df_train['vertical-acceleration'].max()\n",
    "df_train['lateral-acceleration'] = df_train['lateral-acceleration'] / df_train['lateral-acceleration'].max()\n",
    "df_train['RSSI'] = df_train['RSSI'] / df_train['RSSI'].max()\n",
    "df_train['phase'] = df_train['phase'] / df_train['phase'].max()\n",
    "df_train['frequency'] = df_train['frequency'] / df_train['frequency'].max()\n",
    "\n",
    "# Round numbers\n",
    "df_train = df_train.round({'frontal-acceleration': 4,\n",
    "                           'vertical-acceleration': 4,\n",
    "                           'lateral-acceleration': 4,\n",
    "                           'RSSI': 4,\n",
    "                           'phase': 4,\n",
    "                           'frequency': 4})"
   ]
  },
  {
   "cell_type": "markdown",
   "metadata": {},
   "source": [
    "## Reshape Data into Segments and Prepare for Keras\n"
   ]
  },
  {
   "cell_type": "code",
   "execution_count": 20,
   "metadata": {},
   "outputs": [],
   "source": [
    "def create_segments_and_labels(df, time_steps, step, label_name):\n",
    "\n",
    "    # x, y, z acceleration as features\n",
    "    N_FEATURES = 6\n",
    "    # Number of steps to advance in each iteration (for me, it should always\n",
    "    # be equal to the time_steps in order to have no overlap between segments)\n",
    "    # step = time_steps\n",
    "    segments = []\n",
    "    labels = []\n",
    "    for i in range(0, len(df) - time_steps, step):\n",
    "        fa = df['frontal-acceleration'].values[i: i + time_steps]\n",
    "        va = df['vertical-acceleration'].values[i: i + time_steps]\n",
    "        la = df['lateral-acceleration'].values[i: i + time_steps]\n",
    "        rs = df['RSSI'].values[i: i + time_steps]\n",
    "        ph = df['phase'].values[i: i + time_steps]\n",
    "        fr = df['frequency'].values[i: i + time_steps]\n",
    "\n",
    "        # Retrieve the most often used label in this segment\n",
    "        label = stats.mode(df[label_name][i: i + time_steps])[0][0]\n",
    "        segments.append([fa, va, la, rs, ph, fr])\n",
    "        labels.append(label)\n",
    "\n",
    "    # Bring the segments into a better shape\n",
    "    reshaped_segments = np.asarray(segments, dtype= np.float32).reshape(-1, time_steps, N_FEATURES)\n",
    "    labels = np.asarray(labels)\n",
    "\n",
    "    return reshaped_segments, labels\n",
    "\n",
    "LABEL = 'label'\n",
    "x_train, y_train = create_segments_and_labels(df_train,\n",
    "                                              TIME_PERIODS,\n",
    "                                              STEP_DISTANCE,\n",
    "                                              LABEL)"
   ]
  },
  {
   "cell_type": "code",
   "execution_count": 21,
   "metadata": {},
   "outputs": [
    {
     "name": "stdout",
     "output_type": "stream",
     "text": [
      "x_train shape:  (3926, 100, 6)\n",
      "3926 training samples\n",
      "y_train shape:  (3926,)\n"
     ]
    }
   ],
   "source": [
    "print('x_train shape: ', x_train.shape)\n",
    "print(x_train.shape[0], 'training samples')\n",
    "print('y_train shape: ', y_train.shape)"
   ]
  },
  {
   "cell_type": "code",
   "execution_count": 22,
   "metadata": {},
   "outputs": [],
   "source": [
    "# Set input & output dimensions\n",
    "num_time_periods, num_sensors = x_train.shape[1], x_train.shape[2]\n",
    "\n",
    "num_classes = 5"
   ]
  },
  {
   "cell_type": "code",
   "execution_count": 23,
   "metadata": {},
   "outputs": [
    {
     "name": "stdout",
     "output_type": "stream",
     "text": [
      "x_train shape: (3926, 600)\n",
      "input_shape: 600\n"
     ]
    }
   ],
   "source": [
    "input_shape = (num_time_periods*num_sensors)\n",
    "x_train = x_train.reshape(x_train.shape[0], input_shape)\n",
    "print('x_train shape:', x_train.shape)\n",
    "print('input_shape:', input_shape)"
   ]
  },
  {
   "cell_type": "code",
   "execution_count": 24,
   "metadata": {},
   "outputs": [],
   "source": [
    "x_train = x_train.astype('float32')\n",
    "y_train = y_train.astype('float32')"
   ]
  },
  {
   "cell_type": "code",
   "execution_count": 25,
   "metadata": {},
   "outputs": [
    {
     "name": "stdout",
     "output_type": "stream",
     "text": [
      "New y_train shape:  (3926, 5)\n"
     ]
    }
   ],
   "source": [
    "y_train_hot = np_utils.to_categorical(y_train, num_classes)\n",
    "print('New y_train shape: ', y_train_hot.shape)"
   ]
  },
  {
   "cell_type": "markdown",
   "metadata": {},
   "source": [
    "## Create Deep Neural Network Model in Keras"
   ]
  },
  {
   "cell_type": "code",
   "execution_count": 26,
   "metadata": {},
   "outputs": [
    {
     "name": "stdout",
     "output_type": "stream",
     "text": [
      "_________________________________________________________________\n",
      "Layer (type)                 Output Shape              Param #   \n",
      "=================================================================\n",
      "reshape_2 (Reshape)          (None, 100, 6)            0         \n",
      "_________________________________________________________________\n",
      "dense_5 (Dense)              (None, 100, 100)          700       \n",
      "_________________________________________________________________\n",
      "dense_6 (Dense)              (None, 100, 100)          10100     \n",
      "_________________________________________________________________\n",
      "dense_7 (Dense)              (None, 100, 100)          10100     \n",
      "_________________________________________________________________\n",
      "flatten_2 (Flatten)          (None, 10000)             0         \n",
      "_________________________________________________________________\n",
      "dense_8 (Dense)              (None, 5)                 50005     \n",
      "=================================================================\n",
      "Total params: 70,905\n",
      "Trainable params: 70,905\n",
      "Non-trainable params: 0\n",
      "_________________________________________________________________\n",
      "None\n"
     ]
    }
   ],
   "source": [
    "model_m = Sequential()\n",
    "# Remark: since coreml cannot accept vector shapes of complex shape like\n",
    "# [80,3] this workaround is used in order to reshape the vector internally\n",
    "# prior feeding it into the network\n",
    "model_m.add(Reshape((TIME_PERIODS, 6), input_shape=(input_shape,)))\n",
    "model_m.add(Dense(100, activation='relu'))\n",
    "model_m.add(Dense(100, activation='relu'))\n",
    "model_m.add(Dense(100, activation='relu'))\n",
    "model_m.add(Flatten())\n",
    "model_m.add(Dense(num_classes, activation='softmax'))\n",
    "print(model_m.summary())"
   ]
  },
  {
   "cell_type": "markdown",
   "metadata": {},
   "source": [
    "## Fit the DNN Model in Keras"
   ]
  },
  {
   "cell_type": "code",
   "execution_count": 40,
   "metadata": {},
   "outputs": [
    {
     "name": "stdout",
     "output_type": "stream",
     "text": [
      "Train on 3140 samples, validate on 786 samples\n",
      "Epoch 1/50\n",
      "3140/3140 [==============================] - 3s 930us/step - loss: 0.1690 - acc: 0.9328 - val_loss: 0.3360 - val_acc: 0.8715\n",
      "Epoch 2/50\n",
      "3140/3140 [==============================] - 2s 554us/step - loss: 0.1065 - acc: 0.9627 - val_loss: 0.4238 - val_acc: 0.8893\n",
      "Epoch 3/50\n",
      "3140/3140 [==============================] - 2s 551us/step - loss: 0.0902 - acc: 0.9666 - val_loss: 0.3327 - val_acc: 0.8893\n",
      "Epoch 4/50\n",
      "3140/3140 [==============================] - 2s 549us/step - loss: 0.0743 - acc: 0.9796 - val_loss: 0.3944 - val_acc: 0.8969\n",
      "Epoch 5/50\n",
      "3140/3140 [==============================] - 2s 626us/step - loss: 0.0662 - acc: 0.9815 - val_loss: 0.3882 - val_acc: 0.8995\n",
      "Epoch 6/50\n",
      "3140/3140 [==============================] - 2s 681us/step - loss: 0.0641 - acc: 0.9815 - val_loss: 0.3775 - val_acc: 0.8969\n"
     ]
    }
   ],
   "source": [
    "callbacks_list = [\n",
    "    keras.callbacks.ModelCheckpoint(\n",
    "        filepath='best_model.{epoch:02d}-{val_loss:.2f}.h5',\n",
    "        monitor='val_loss', save_best_only=True),\n",
    "    keras.callbacks.EarlyStopping(monitor='acc', patience=1)\n",
    "]\n",
    "\n",
    "model_m.compile(loss='categorical_crossentropy',\n",
    "                optimizer='adam', metrics=['accuracy'])\n",
    "\n",
    "# Hyper-parameters\n",
    "BATCH_SIZE = 400\n",
    "EPOCHS = 50\n",
    "\n",
    "# Enable validation to use ModelCheckpoint and EarlyStopping callbacks.\n",
    "history = model_m.fit(x_train,\n",
    "                      y_train_hot,\n",
    "                      batch_size=BATCH_SIZE,\n",
    "                      epochs=EPOCHS,\n",
    "                      callbacks=callbacks_list,\n",
    "                      validation_split=0.2,\n",
    "                      verbose=1)"
   ]
  },
  {
   "cell_type": "code",
   "execution_count": 41,
   "metadata": {},
   "outputs": [
    {
     "data": {
      "image/png": "[encoded data removed]",
      "text/plain": [
       "<Figure size 432x288 with 1 Axes>"
      ]
     },
     "metadata": {},
     "output_type": "display_data"
    },
    {
     "name": "stdout",
     "output_type": "stream",
     "text": [
      "              precision    recall  f1-score   support\n",
      "\n",
      "         1.0       0.93      0.96      0.95      1066\n",
      "         2.0       0.88      0.88      0.88       361\n",
      "         3.0       1.00      0.99      1.00      2421\n",
      "         4.0       0.91      0.63      0.74        78\n",
      "\n",
      "   micro avg       0.97      0.97      0.97      3926\n",
      "   macro avg       0.93      0.87      0.89      3926\n",
      "weighted avg       0.97      0.97      0.97      3926\n",
      "\n"
     ]
    }
   ],
   "source": [
    "plt.figure(figsize=(6, 4))\n",
    "plt.plot(history.history['acc'], 'r', label='Accuracy of training data')\n",
    "plt.plot(history.history['val_acc'], 'b', label='Accuracy of validation data')\n",
    "plt.plot(history.history['loss'], 'r--', label='Loss of training data')\n",
    "plt.plot(history.history['val_loss'], 'b--', label='Loss of validation data')\n",
    "plt.title('Model Accuracy and Loss')\n",
    "plt.ylabel('Accuracy and Loss')\n",
    "plt.xlabel('Training Epoch')\n",
    "plt.ylim(0)\n",
    "plt.legend()\n",
    "plt.show()\n",
    "\n",
    "# Print confusion matrix for training data\n",
    "y_pred_train = model_m.predict(x_train)\n",
    "# Take the class with the highest probability from the train predictions\n",
    "max_y_pred_train = np.argmax(y_pred_train, axis=1)\n",
    "print(classification_report(y_train, max_y_pred_train))"
   ]
  },
  {
   "cell_type": "code",
   "execution_count": 42,
   "metadata": {},
   "outputs": [
    {
     "name": "stdout",
     "output_type": "stream",
     "text": [
      "1303/1303 [==============================] - 0s 203us/step\n",
      "\n",
      "Accuracy on test data: 0.87\n",
      "\n",
      "Loss on test data: 0.44\n"
     ]
    }
   ],
   "source": [
    "# Normalize features for training data set\n",
    "df_test['frontal-acceleration'] = df_test['frontal-acceleration'] / df_test['frontal-acceleration'].max()\n",
    "df_test['vertical-acceleration'] = df_test['vertical-acceleration'] / df_test['vertical-acceleration'].max()\n",
    "df_test['lateral-acceleration'] = df_test['lateral-acceleration'] / df_test['lateral-acceleration'].max()\n",
    "df_test['RSSI'] = df_test['RSSI'] / df_test['RSSI'].max()\n",
    "df_test['phase'] = df_test['phase'] / df_test['phase'].max()\n",
    "df_test['frequency'] = df_test['frequency'] / df_test['frequency'].max()\n",
    "\n",
    "df_test = df_test.round({'frontal-acceleration': 4, 'vertical-acceleration': 4, 'lateral-acceleration': 4})\n",
    "\n",
    "x_test, y_test = create_segments_and_labels(df_test,\n",
    "                                            TIME_PERIODS,\n",
    "                                            STEP_DISTANCE,\n",
    "                                            LABEL)\n",
    "\n",
    "# Set input_shape / reshape for Keras\n",
    "x_test = x_test.reshape(x_test.shape[0], input_shape)\n",
    "\n",
    "x_test = x_test.astype('float32')\n",
    "y_test = y_test.astype('float32')\n",
    "\n",
    "y_test = np_utils.to_categorical(y_test, num_classes)\n",
    "\n",
    "score = model_m.evaluate(x_test, y_test, verbose=1)\n",
    "\n",
    "print('\\nAccuracy on test data: %0.2f' % score[1])\n",
    "print('\\nLoss on test data: %0.2f' % score[0])"
   ]
  },
  {
   "cell_type": "code",
   "execution_count": 43,
   "metadata": {},
   "outputs": [
    {
     "data": {
      "image/png": "[encoded data removed]",
      "text/plain": [
       "<Figure size 432x288 with 2 Axes>"
      ]
     },
     "metadata": {},
     "output_type": "display_data"
    },
    {
     "name": "stdout",
     "output_type": "stream",
     "text": [
      "              precision    recall  f1-score   support\n",
      "\n",
      "           1       0.79      0.88      0.83       437\n",
      "           2       0.36      0.33      0.34        92\n",
      "           3       1.00      0.94      0.97       756\n",
      "           4       0.54      0.72      0.62        18\n",
      "\n",
      "   micro avg       0.87      0.87      0.87      1303\n",
      "   macro avg       0.67      0.72      0.69      1303\n",
      "weighted avg       0.88      0.87      0.87      1303\n",
      "\n"
     ]
    }
   ],
   "source": [
    "\n",
    "def show_confusion_matrix(validations, predictions):\n",
    "\n",
    "    matrix = metrics.confusion_matrix(validations, predictions)\n",
    "    plt.figure(figsize=(6, 4))\n",
    "    sns.heatmap(matrix,\n",
    "                cmap='coolwarm',\n",
    "                linecolor='white',\n",
    "                linewidths=1,\n",
    "                xticklabels=LABELS,\n",
    "                yticklabels=LABELS,\n",
    "                annot=True,\n",
    "                fmt='d')\n",
    "    plt.title('Confusion Matrix')\n",
    "    plt.ylabel('True Label')\n",
    "    plt.xlabel('Predicted Label')\n",
    "    plt.show()\n",
    "\n",
    "y_pred_test = model_m.predict(x_test)\n",
    "# Take the class with the highest probability from the test predictions\n",
    "max_y_pred_test = np.argmax(y_pred_test, axis=1)\n",
    "max_y_test = np.argmax(y_test, axis=1)\n",
    "\n",
    "show_confusion_matrix(max_y_test, max_y_pred_test)\n",
    "\n",
    "print(classification_report(max_y_test, max_y_pred_test))"
   ]
  },
  {
   "cell_type": "code",
   "execution_count": null,
   "metadata": {},
   "outputs": [],
   "source": []
  }
 ],
 "metadata": {
  "kernelspec": {
   "display_name": "Python 3",
   "language": "python",
   "name": "python3"
  },
  "language_info": {
   "codemirror_mode": {
    "name": "ipython",
    "version": 3
   },
   "file_extension": ".py",
   "mimetype": "text/x-python",
   "name": "python",
   "nbconvert_exporter": "python",
   "pygments_lexer": "ipython3",
   "version": "3.7.3"
  },
  "latex_metadata": {
   "author": "Nils Ackermann",
   "title": "Human Activity Recognition (HAR) Tutorial with Keras and CoreML"
  }
 },
 "nbformat": 4,
 "nbformat_minor": 2
}
